{
 "cells": [
  {
   "cell_type": "markdown",
   "metadata": {},
   "source": [
    "# Packages"
   ]
  },
  {
   "cell_type": "code",
   "execution_count": 102,
   "metadata": {},
   "outputs": [],
   "source": [
    "%matplotlib inline\n",
    "import pandas as pd\n",
    "import matplotlib.pyplot as plt\n",
    "import seaborn as sns\n",
    "import numpy as np\n",
    "sns.set_style('dark')"
   ]
  },
  {
   "cell_type": "markdown",
   "metadata": {},
   "source": [
    "# Offensive WAR"
   ]
  },
  {
   "cell_type": "markdown",
   "metadata": {},
   "source": [
    "The term WAR is thrown around a lot in baseball nowadays. Let's look at it visually to better quantify it in our heads. Here, I've taken the data for all batters from the 2017 season from Fangraphs.com. I then made another table with only the qualified batters for that season, defined to be anyone who had more than 502 plate appearances. A histogram of all those players' WAR is shown below."
   ]
  },
  {
   "cell_type": "code",
   "execution_count": 123,
   "metadata": {},
   "outputs": [
    {
     "data": {
      "image/png": "[encoded data removed]",
      "text/plain": [
       "<Figure size 432x288 with 1 Axes>"
      ]
     },
     "metadata": {},
     "output_type": "display_data"
    }
   ],
   "source": [
    "AllBatters = pd.read_csv('FangraphsBatters.csv')\n",
    "\n",
    "QualifiedBatters = AllBatters[AllBatters['PA'] > 502]\n",
    "QualifiedBatters.columns\n",
    "QualifiedBatters = QualifiedBatters.set_index('playerid')\n",
    "\n",
    "QualifiedBatters.WAR.hist(bins=np.arange(-2,9,1), edgecolor='lightblue', linewidth=2)\n",
    "plt.xlabel('WAR')\n",
    "plt.ylabel('Number of Players')\n",
    "plt.show()"
   ]
  },
  {
   "cell_type": "markdown",
   "metadata": {},
   "source": [
    "From the histogram, we can see that some of the worst players were worth around -2 wins, the best were around 8, and the bulk of the players were between 0.5 and 4. Let's look at some specific players."
   ]
  },
  {
   "cell_type": "code",
   "execution_count": 84,
   "metadata": {},
   "outputs": [
    {
     "data": {
      "text/html": [
       "<div>\n",
       "<style scoped>\n",
       "    .dataframe tbody tr th:only-of-type {\n",
       "        vertical-align: middle;\n",
       "    }\n",
       "\n",
       "    .dataframe tbody tr th {\n",
       "        vertical-align: top;\n",
       "    }\n",
       "\n",
       "    .dataframe thead th {\n",
       "        text-align: right;\n",
       "    }\n",
       "</style>\n",
       "<table border=\"1\" class=\"dataframe\">\n",
       "  <thead>\n",
       "    <tr style=\"text-align: right;\">\n",
       "      <th></th>\n",
       "      <th>Name</th>\n",
       "      <th>Team</th>\n",
       "      <th>G</th>\n",
       "      <th>PA</th>\n",
       "      <th>HR</th>\n",
       "      <th>R</th>\n",
       "      <th>RBI</th>\n",
       "      <th>SB</th>\n",
       "      <th>BB%</th>\n",
       "      <th>K%</th>\n",
       "      <th>...</th>\n",
       "      <th>BABIP</th>\n",
       "      <th>AVG</th>\n",
       "      <th>OBP</th>\n",
       "      <th>SLG</th>\n",
       "      <th>wOBA</th>\n",
       "      <th>wRC+</th>\n",
       "      <th>BsR</th>\n",
       "      <th>Off</th>\n",
       "      <th>Def</th>\n",
       "      <th>WAR</th>\n",
       "    </tr>\n",
       "    <tr>\n",
       "      <th>playerid</th>\n",
       "      <th></th>\n",
       "      <th></th>\n",
       "      <th></th>\n",
       "      <th></th>\n",
       "      <th></th>\n",
       "      <th></th>\n",
       "      <th></th>\n",
       "      <th></th>\n",
       "      <th></th>\n",
       "      <th></th>\n",
       "      <th></th>\n",
       "      <th></th>\n",
       "      <th></th>\n",
       "      <th></th>\n",
       "      <th></th>\n",
       "      <th></th>\n",
       "      <th></th>\n",
       "      <th></th>\n",
       "      <th></th>\n",
       "      <th></th>\n",
       "      <th></th>\n",
       "    </tr>\n",
       "  </thead>\n",
       "  <tbody>\n",
       "    <tr>\n",
       "      <th>6195</th>\n",
       "      <td>Ian Kinsler</td>\n",
       "      <td>Tigers</td>\n",
       "      <td>139</td>\n",
       "      <td>613</td>\n",
       "      <td>22</td>\n",
       "      <td>90</td>\n",
       "      <td>52</td>\n",
       "      <td>14</td>\n",
       "      <td>9.0 %</td>\n",
       "      <td>14.0 %</td>\n",
       "      <td>...</td>\n",
       "      <td>0.244</td>\n",
       "      <td>0.236</td>\n",
       "      <td>0.313</td>\n",
       "      <td>0.412</td>\n",
       "      <td>0.313</td>\n",
       "      <td>91.0</td>\n",
       "      <td>1.5</td>\n",
       "      <td>-5.1</td>\n",
       "      <td>9.4</td>\n",
       "      <td>2.5</td>\n",
       "    </tr>\n",
       "  </tbody>\n",
       "</table>\n",
       "<p>1 rows × 21 columns</p>\n",
       "</div>"
      ],
      "text/plain": [
       "                 Name    Team    G   PA  HR   R  RBI  SB    BB%      K% ...   \\\n",
       "playerid                                                                ...    \n",
       "6195      Ian Kinsler  Tigers  139  613  22  90   52  14  9.0 %  14.0 % ...    \n",
       "\n",
       "          BABIP    AVG    OBP    SLG   wOBA  wRC+  BsR  Off  Def  WAR  \n",
       "playerid                                                               \n",
       "6195      0.244  0.236  0.313  0.412  0.313  91.0  1.5 -5.1  9.4  2.5  \n",
       "\n",
       "[1 rows x 21 columns]"
      ]
     },
     "execution_count": 84,
     "metadata": {},
     "output_type": "execute_result"
    }
   ],
   "source": [
    "NumberPlayers, NumberStats = QualifiedBatters.shape\n",
    "Median = NumberPlayers/2\n",
    "\n",
    "QualifiedBatters[int(Median):int(Median)+1]"
   ]
  },
  {
   "cell_type": "markdown",
   "metadata": {},
   "source": [
    "The player right in the middle of the histogram, or the most average player, was Ian Kinsler of the Detroit Tigers. Worth a good 2.5, that puts him just above what one would expect from an average starter typically."
   ]
  },
  {
   "cell_type": "code",
   "execution_count": 85,
   "metadata": {},
   "outputs": [
    {
     "data": {
      "text/html": [
       "<div>\n",
       "<style scoped>\n",
       "    .dataframe tbody tr th:only-of-type {\n",
       "        vertical-align: middle;\n",
       "    }\n",
       "\n",
       "    .dataframe tbody tr th {\n",
       "        vertical-align: top;\n",
       "    }\n",
       "\n",
       "    .dataframe thead th {\n",
       "        text-align: right;\n",
       "    }\n",
       "</style>\n",
       "<table border=\"1\" class=\"dataframe\">\n",
       "  <thead>\n",
       "    <tr style=\"text-align: right;\">\n",
       "      <th></th>\n",
       "      <th>Name</th>\n",
       "      <th>Team</th>\n",
       "      <th>G</th>\n",
       "      <th>PA</th>\n",
       "      <th>HR</th>\n",
       "      <th>R</th>\n",
       "      <th>RBI</th>\n",
       "      <th>SB</th>\n",
       "      <th>BB%</th>\n",
       "      <th>K%</th>\n",
       "      <th>...</th>\n",
       "      <th>BABIP</th>\n",
       "      <th>AVG</th>\n",
       "      <th>OBP</th>\n",
       "      <th>SLG</th>\n",
       "      <th>wOBA</th>\n",
       "      <th>wRC+</th>\n",
       "      <th>BsR</th>\n",
       "      <th>Off</th>\n",
       "      <th>Def</th>\n",
       "      <th>WAR</th>\n",
       "    </tr>\n",
       "    <tr>\n",
       "      <th>playerid</th>\n",
       "      <th></th>\n",
       "      <th></th>\n",
       "      <th></th>\n",
       "      <th></th>\n",
       "      <th></th>\n",
       "      <th></th>\n",
       "      <th></th>\n",
       "      <th></th>\n",
       "      <th></th>\n",
       "      <th></th>\n",
       "      <th></th>\n",
       "      <th></th>\n",
       "      <th></th>\n",
       "      <th></th>\n",
       "      <th></th>\n",
       "      <th></th>\n",
       "      <th></th>\n",
       "      <th></th>\n",
       "      <th></th>\n",
       "      <th></th>\n",
       "      <th></th>\n",
       "    </tr>\n",
       "  </thead>\n",
       "  <tbody>\n",
       "    <tr>\n",
       "      <th>1177</th>\n",
       "      <td>Albert Pujols</td>\n",
       "      <td>Angels</td>\n",
       "      <td>149</td>\n",
       "      <td>636</td>\n",
       "      <td>23</td>\n",
       "      <td>53</td>\n",
       "      <td>101</td>\n",
       "      <td>3</td>\n",
       "      <td>5.8 %</td>\n",
       "      <td>14.6 %</td>\n",
       "      <td>...</td>\n",
       "      <td>0.249</td>\n",
       "      <td>0.241</td>\n",
       "      <td>0.286</td>\n",
       "      <td>0.386</td>\n",
       "      <td>0.286</td>\n",
       "      <td>78.0</td>\n",
       "      <td>-6.3</td>\n",
       "      <td>-23.5</td>\n",
       "      <td>-17.4</td>\n",
       "      <td>-1.9</td>\n",
       "    </tr>\n",
       "  </tbody>\n",
       "</table>\n",
       "<p>1 rows × 21 columns</p>\n",
       "</div>"
      ],
      "text/plain": [
       "                   Name    Team    G   PA  HR   R  RBI  SB    BB%      K%  \\\n",
       "playerid                                                                    \n",
       "1177      Albert Pujols  Angels  149  636  23  53  101   3  5.8 %  14.6 %   \n",
       "\n",
       "         ...   BABIP    AVG    OBP    SLG   wOBA  wRC+  BsR   Off   Def  WAR  \n",
       "playerid ...                                                                  \n",
       "1177     ...   0.249  0.241  0.286  0.386  0.286  78.0 -6.3 -23.5 -17.4 -1.9  \n",
       "\n",
       "[1 rows x 21 columns]"
      ]
     },
     "execution_count": 85,
     "metadata": {},
     "output_type": "execute_result"
    }
   ],
   "source": [
    "QualifiedBatters[-1:]"
   ]
  },
  {
   "cell_type": "markdown",
   "metadata": {},
   "source": [
    "The worst player last year was future hall of fame member Albert Pujols. This is good example of how RBI is not a particularly useful stat for how good a player is, as even Pujols was able to drive in 100 thanks to playing behind Mike Trout. Those traditional numbers are one of the reasons the Angels' manager continues to play him in the middle of their lineup."
   ]
  },
  {
   "cell_type": "code",
   "execution_count": 82,
   "metadata": {},
   "outputs": [
    {
     "data": {
      "text/html": [
       "<div>\n",
       "<style scoped>\n",
       "    .dataframe tbody tr th:only-of-type {\n",
       "        vertical-align: middle;\n",
       "    }\n",
       "\n",
       "    .dataframe tbody tr th {\n",
       "        vertical-align: top;\n",
       "    }\n",
       "\n",
       "    .dataframe thead th {\n",
       "        text-align: right;\n",
       "    }\n",
       "</style>\n",
       "<table border=\"1\" class=\"dataframe\">\n",
       "  <thead>\n",
       "    <tr style=\"text-align: right;\">\n",
       "      <th></th>\n",
       "      <th>Name</th>\n",
       "      <th>Team</th>\n",
       "      <th>G</th>\n",
       "      <th>PA</th>\n",
       "      <th>HR</th>\n",
       "      <th>R</th>\n",
       "      <th>RBI</th>\n",
       "      <th>SB</th>\n",
       "      <th>BB%</th>\n",
       "      <th>K%</th>\n",
       "      <th>...</th>\n",
       "      <th>BABIP</th>\n",
       "      <th>AVG</th>\n",
       "      <th>OBP</th>\n",
       "      <th>SLG</th>\n",
       "      <th>wOBA</th>\n",
       "      <th>wRC+</th>\n",
       "      <th>BsR</th>\n",
       "      <th>Off</th>\n",
       "      <th>Def</th>\n",
       "      <th>WAR</th>\n",
       "    </tr>\n",
       "    <tr>\n",
       "      <th>playerid</th>\n",
       "      <th></th>\n",
       "      <th></th>\n",
       "      <th></th>\n",
       "      <th></th>\n",
       "      <th></th>\n",
       "      <th></th>\n",
       "      <th></th>\n",
       "      <th></th>\n",
       "      <th></th>\n",
       "      <th></th>\n",
       "      <th></th>\n",
       "      <th></th>\n",
       "      <th></th>\n",
       "      <th></th>\n",
       "      <th></th>\n",
       "      <th></th>\n",
       "      <th></th>\n",
       "      <th></th>\n",
       "      <th></th>\n",
       "      <th></th>\n",
       "      <th></th>\n",
       "    </tr>\n",
       "  </thead>\n",
       "  <tbody>\n",
       "    <tr>\n",
       "      <th>15640</th>\n",
       "      <td>Aaron Judge</td>\n",
       "      <td>Yankees</td>\n",
       "      <td>155</td>\n",
       "      <td>678</td>\n",
       "      <td>52</td>\n",
       "      <td>128</td>\n",
       "      <td>114</td>\n",
       "      <td>9</td>\n",
       "      <td>18.7 %</td>\n",
       "      <td>30.7 %</td>\n",
       "      <td>...</td>\n",
       "      <td>0.357</td>\n",
       "      <td>0.284</td>\n",
       "      <td>0.422</td>\n",
       "      <td>0.627</td>\n",
       "      <td>0.43</td>\n",
       "      <td>173.0</td>\n",
       "      <td>0.0</td>\n",
       "      <td>60.8</td>\n",
       "      <td>-1.3</td>\n",
       "      <td>8.2</td>\n",
       "    </tr>\n",
       "  </tbody>\n",
       "</table>\n",
       "<p>1 rows × 21 columns</p>\n",
       "</div>"
      ],
      "text/plain": [
       "                 Name     Team    G   PA  HR    R  RBI  SB     BB%      K%  \\\n",
       "playerid                                                                     \n",
       "15640     Aaron Judge  Yankees  155  678  52  128  114   9  18.7 %  30.7 %   \n",
       "\n",
       "         ...   BABIP    AVG    OBP    SLG  wOBA   wRC+  BsR   Off  Def  WAR  \n",
       "playerid ...                                                                 \n",
       "15640    ...   0.357  0.284  0.422  0.627  0.43  173.0  0.0  60.8 -1.3  8.2  \n",
       "\n",
       "[1 rows x 21 columns]"
      ]
     },
     "execution_count": 82,
     "metadata": {},
     "output_type": "execute_result"
    }
   ],
   "source": [
    "QualifiedBatters[0:1]"
   ]
  },
  {
   "cell_type": "markdown",
   "metadata": {},
   "source": [
    "And finally, the best player last year was rookie of the year Aaron Judge of the New York Yankees. Judge burst onto the scene last year, and came in second place in the MVP voting.\n",
    "\n",
    "These three examples show WAR values that fit qualitatively with how we generally think of the players. Kinsler is thought of as a consistent average start, Pujols looked very old last year, and Judge was spectacular."
   ]
  },
  {
   "cell_type": "markdown",
   "metadata": {},
   "source": [
    "# Team WAR"
   ]
  },
  {
   "cell_type": "code",
   "execution_count": 107,
   "metadata": {},
   "outputs": [],
   "source": [
    "AllTeams = pd.read_csv('FangraphsTeams.csv')\n",
    "AllTeams['Total WAR'] = AllTeams.OWAR + AllTeams.DWAR\n",
    "AllTeamas = AllTeams.sort_values('Total WAR', ascending=False)\n",
    "AllTeams = AllTeams.reset_index(drop=True)\n",
    "AllTeams.index = AllTeams.index + 1"
   ]
  },
  {
   "cell_type": "code",
   "execution_count": 109,
   "metadata": {},
   "outputs": [
    {
     "data": {
      "text/html": [
       "<div>\n",
       "<style scoped>\n",
       "    .dataframe tbody tr th:only-of-type {\n",
       "        vertical-align: middle;\n",
       "    }\n",
       "\n",
       "    .dataframe tbody tr th {\n",
       "        vertical-align: top;\n",
       "    }\n",
       "\n",
       "    .dataframe thead th {\n",
       "        text-align: right;\n",
       "    }\n",
       "</style>\n",
       "<table border=\"1\" class=\"dataframe\">\n",
       "  <thead>\n",
       "    <tr style=\"text-align: right;\">\n",
       "      <th></th>\n",
       "      <th>Team</th>\n",
       "      <th>Wins</th>\n",
       "      <th>DWAR</th>\n",
       "      <th>BsR</th>\n",
       "      <th>Off</th>\n",
       "      <th>Def</th>\n",
       "      <th>OWAR</th>\n",
       "      <th>Total WAR</th>\n",
       "    </tr>\n",
       "  </thead>\n",
       "  <tbody>\n",
       "    <tr>\n",
       "      <th>1</th>\n",
       "      <td>Astros</td>\n",
       "      <td>101</td>\n",
       "      <td>20.8</td>\n",
       "      <td>-0.4</td>\n",
       "      <td>162.3</td>\n",
       "      <td>-49.9</td>\n",
       "      <td>32.7</td>\n",
       "      <td>53.5</td>\n",
       "    </tr>\n",
       "    <tr>\n",
       "      <th>2</th>\n",
       "      <td>Dodgers</td>\n",
       "      <td>104</td>\n",
       "      <td>24.3</td>\n",
       "      <td>5.8</td>\n",
       "      <td>40.7</td>\n",
       "      <td>64.3</td>\n",
       "      <td>30.4</td>\n",
       "      <td>54.7</td>\n",
       "    </tr>\n",
       "    <tr>\n",
       "      <th>3</th>\n",
       "      <td>Yankees</td>\n",
       "      <td>91</td>\n",
       "      <td>24.4</td>\n",
       "      <td>11.1</td>\n",
       "      <td>73.3</td>\n",
       "      <td>-6.9</td>\n",
       "      <td>28.4</td>\n",
       "      <td>52.8</td>\n",
       "    </tr>\n",
       "    <tr>\n",
       "      <th>4</th>\n",
       "      <td>Indians</td>\n",
       "      <td>102</td>\n",
       "      <td>31.7</td>\n",
       "      <td>11.1</td>\n",
       "      <td>63.0</td>\n",
       "      <td>-6.3</td>\n",
       "      <td>27.1</td>\n",
       "      <td>58.8</td>\n",
       "    </tr>\n",
       "    <tr>\n",
       "      <th>5</th>\n",
       "      <td>Cubs</td>\n",
       "      <td>92</td>\n",
       "      <td>15.9</td>\n",
       "      <td>-6.8</td>\n",
       "      <td>-1.5</td>\n",
       "      <td>68.1</td>\n",
       "      <td>26.9</td>\n",
       "      <td>42.8</td>\n",
       "    </tr>\n",
       "  </tbody>\n",
       "</table>\n",
       "</div>"
      ],
      "text/plain": [
       "      Team  Wins  DWAR   BsR    Off   Def  OWAR  Total WAR\n",
       "1   Astros   101  20.8  -0.4  162.3 -49.9  32.7       53.5\n",
       "2  Dodgers   104  24.3   5.8   40.7  64.3  30.4       54.7\n",
       "3  Yankees    91  24.4  11.1   73.3  -6.9  28.4       52.8\n",
       "4  Indians   102  31.7  11.1   63.0  -6.3  27.1       58.8\n",
       "5     Cubs    92  15.9  -6.8   -1.5  68.1  26.9       42.8"
      ]
     },
     "execution_count": 109,
     "metadata": {},
     "output_type": "execute_result"
    }
   ],
   "source": [
    "AllTeams.head()"
   ]
  },
  {
   "cell_type": "code",
   "execution_count": 117,
   "metadata": {},
   "outputs": [
    {
     "data": {
      "image/png": "[encoded data removed]",
      "text/plain": [
       "<Figure size 432x288 with 1 Axes>"
      ]
     },
     "metadata": {},
     "output_type": "display_data"
    }
   ],
   "source": [
    "Slope, Intercept = np.polyfit(AllTeams['Total WAR'], AllTeams['Wins'],1)\n",
    "\n",
    "plt.scatter(AllTeams['Total WAR'], AllTeams['Wins'])\n",
    "plt.plot(AllTeams['Total WAR'], Slope*AllTeams['Total WAR'] + Intercept)\n",
    "plt.xlabel('Total WAR')\n",
    "plt.ylabel('Team Wins')\n",
    "plt.show()"
   ]
  },
  {
   "cell_type": "code",
   "execution_count": null,
   "metadata": {},
   "outputs": [],
   "source": []
  }
 ],
 "metadata": {
  "kernelspec": {
   "display_name": "Python 3",
   "language": "python",
   "name": "python3"
  },
  "language_info": {
   "codemirror_mode": {
    "name": "ipython",
    "version": 3
   },
   "file_extension": ".py",
   "mimetype": "text/x-python",
   "name": "python",
   "nbconvert_exporter": "python",
   "pygments_lexer": "ipython3",
   "version": "3.6.4"
  },
  "latex_envs": {
   "LaTeX_envs_menu_present": true,
   "autocomplete": true,
   "bibliofile": "biblio.bib",
   "cite_by": "apalike",
   "current_citInitial": 1,
   "eqLabelWithNumbers": true,
   "eqNumInitial": 1,
   "hotkeys": {
    "equation": "Ctrl-E",
    "itemize": "Ctrl-I"
   },
   "labels_anchors": false,
   "latex_user_defs": false,
   "report_style_numbering": false,
   "user_envs_cfg": false
  }
 },
 "nbformat": 4,
 "nbformat_minor": 2
}
