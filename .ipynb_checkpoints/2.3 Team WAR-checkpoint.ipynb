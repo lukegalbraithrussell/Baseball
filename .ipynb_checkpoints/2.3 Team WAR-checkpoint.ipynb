{
 "cells": [
  {
   "cell_type": "code",
   "execution_count": 1,
   "metadata": {},
   "outputs": [],
   "source": [
    "%matplotlib inline\n",
    "import pandas as pd\n",
    "import matplotlib.pyplot as plt\n",
    "import seaborn as sns\n",
    "import numpy as np\n",
    "sns.set_style('dark')"
   ]
  },
  {
   "cell_type": "markdown",
   "metadata": {},
   "source": [
    "# Team WAR"
   ]
  },
  {
   "cell_type": "code",
   "execution_count": 2,
   "metadata": {},
   "outputs": [],
   "source": [
    "AllTeams = pd.read_csv('FangraphsTeams.csv')\n",
    "AllTeams['Total WAR'] = AllTeams.OWAR + AllTeams.DWAR\n",
    "AllTeamas = AllTeams.sort_values('Total WAR', ascending=False)\n",
    "AllTeams = AllTeams.reset_index(drop=True)\n",
    "AllTeams.index = AllTeams.index + 1"
   ]
  },
  {
   "cell_type": "code",
   "execution_count": 3,
   "metadata": {},
   "outputs": [
    {
     "data": {
      "text/html": [
       "<div>\n",
       "<style scoped>\n",
       "    .dataframe tbody tr th:only-of-type {\n",
       "        vertical-align: middle;\n",
       "    }\n",
       "\n",
       "    .dataframe tbody tr th {\n",
       "        vertical-align: top;\n",
       "    }\n",
       "\n",
       "    .dataframe thead th {\n",
       "        text-align: right;\n",
       "    }\n",
       "</style>\n",
       "<table border=\"1\" class=\"dataframe\">\n",
       "  <thead>\n",
       "    <tr style=\"text-align: right;\">\n",
       "      <th></th>\n",
       "      <th>Team</th>\n",
       "      <th>Wins</th>\n",
       "      <th>DWAR</th>\n",
       "      <th>BsR</th>\n",
       "      <th>Off</th>\n",
       "      <th>Def</th>\n",
       "      <th>OWAR</th>\n",
       "      <th>Total WAR</th>\n",
       "    </tr>\n",
       "  </thead>\n",
       "  <tbody>\n",
       "    <tr>\n",
       "      <th>1</th>\n",
       "      <td>Astros</td>\n",
       "      <td>101</td>\n",
       "      <td>20.8</td>\n",
       "      <td>-0.4</td>\n",
       "      <td>162.3</td>\n",
       "      <td>-49.9</td>\n",
       "      <td>32.7</td>\n",
       "      <td>53.5</td>\n",
       "    </tr>\n",
       "    <tr>\n",
       "      <th>2</th>\n",
       "      <td>Dodgers</td>\n",
       "      <td>104</td>\n",
       "      <td>24.3</td>\n",
       "      <td>5.8</td>\n",
       "      <td>40.7</td>\n",
       "      <td>64.3</td>\n",
       "      <td>30.4</td>\n",
       "      <td>54.7</td>\n",
       "    </tr>\n",
       "    <tr>\n",
       "      <th>3</th>\n",
       "      <td>Yankees</td>\n",
       "      <td>91</td>\n",
       "      <td>24.4</td>\n",
       "      <td>11.1</td>\n",
       "      <td>73.3</td>\n",
       "      <td>-6.9</td>\n",
       "      <td>28.4</td>\n",
       "      <td>52.8</td>\n",
       "    </tr>\n",
       "    <tr>\n",
       "      <th>4</th>\n",
       "      <td>Indians</td>\n",
       "      <td>102</td>\n",
       "      <td>31.7</td>\n",
       "      <td>11.1</td>\n",
       "      <td>63.0</td>\n",
       "      <td>-6.3</td>\n",
       "      <td>27.1</td>\n",
       "      <td>58.8</td>\n",
       "    </tr>\n",
       "    <tr>\n",
       "      <th>5</th>\n",
       "      <td>Cubs</td>\n",
       "      <td>92</td>\n",
       "      <td>15.9</td>\n",
       "      <td>-6.8</td>\n",
       "      <td>-1.5</td>\n",
       "      <td>68.1</td>\n",
       "      <td>26.9</td>\n",
       "      <td>42.8</td>\n",
       "    </tr>\n",
       "  </tbody>\n",
       "</table>\n",
       "</div>"
      ],
      "text/plain": [
       "      Team  Wins  DWAR   BsR    Off   Def  OWAR  Total WAR\n",
       "1   Astros   101  20.8  -0.4  162.3 -49.9  32.7       53.5\n",
       "2  Dodgers   104  24.3   5.8   40.7  64.3  30.4       54.7\n",
       "3  Yankees    91  24.4  11.1   73.3  -6.9  28.4       52.8\n",
       "4  Indians   102  31.7  11.1   63.0  -6.3  27.1       58.8\n",
       "5     Cubs    92  15.9  -6.8   -1.5  68.1  26.9       42.8"
      ]
     },
     "execution_count": 3,
     "metadata": {},
     "output_type": "execute_result"
    }
   ],
   "source": [
    "AllTeams.head()"
   ]
  },
  {
   "cell_type": "code",
   "execution_count": 4,
   "metadata": {},
   "outputs": [
    {
     "data": {
      "image/png": "[encoded data removed]",
      "text/plain": [
       "<Figure size 432x288 with 1 Axes>"
      ]
     },
     "metadata": {},
     "output_type": "display_data"
    }
   ],
   "source": [
    "Slope, Intercept = np.polyfit(AllTeams['Total WAR'], AllTeams['Wins'],1)\n",
    "\n",
    "plt.scatter(AllTeams['Total WAR'], AllTeams['Wins'])\n",
    "plt.plot(AllTeams['Total WAR'], Slope*AllTeams['Total WAR'] + Intercept)\n",
    "plt.xlabel('Total WAR')\n",
    "plt.ylabel('Team Wins')\n",
    "plt.show()"
   ]
  },
  {
   "cell_type": "code",
   "execution_count": null,
   "metadata": {},
   "outputs": [],
   "source": []
  }
 ],
 "metadata": {
  "kernelspec": {
   "display_name": "Python 3",
   "language": "python",
   "name": "python3"
  },
  "language_info": {
   "codemirror_mode": {
    "name": "ipython",
    "version": 3
   },
   "file_extension": ".py",
   "mimetype": "text/x-python",
   "name": "python",
   "nbconvert_exporter": "python",
   "pygments_lexer": "ipython3",
   "version": "3.6.4"
  },
  "latex_envs": {
   "LaTeX_envs_menu_present": true,
   "autocomplete": true,
   "bibliofile": "biblio.bib",
   "cite_by": "apalike",
   "current_citInitial": 1,
   "eqLabelWithNumbers": true,
   "eqNumInitial": 1,
   "hotkeys": {
    "equation": "Ctrl-E",
    "itemize": "Ctrl-I"
   },
   "labels_anchors": false,
   "latex_user_defs": false,
   "report_style_numbering": false,
   "user_envs_cfg": false
  }
 },
 "nbformat": 4,
 "nbformat_minor": 2
}
